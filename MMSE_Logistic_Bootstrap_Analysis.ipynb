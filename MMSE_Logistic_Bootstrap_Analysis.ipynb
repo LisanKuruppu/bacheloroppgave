{
 "cells": [
  {
   "cell_type": "markdown",
   "id": "c454b9fa",
   "metadata": {},
   "source": [
    "# Alzheimer's Prediction using MMSE Features\n",
    "This notebook runs logistic regression with bootstrapping on MMSCORE and MMSE questions to predict Alzheimer's Disease (AD)."
   ]
  },
  {
   "cell_type": "code",
   "execution_count": 79,
   "id": "7afdff0f",
   "metadata": {},
   "outputs": [],
   "source": [
    "import numpy as np\n",
    "import pandas as pd\n",
    "import statsmodels.api as sm\n",
    "from Logistic_bootstrap_metrics import bootstrap_metrics\n",
    "\n",
    "from sklearn.decomposition import PCA\n",
    "from sklearn.preprocessing import StandardScaler\n",
    "from sklearn.linear_model import LogisticRegression\n",
    "from sklearn.metrics import roc_auc_score, accuracy_score\n"
   ]
  },
  {
   "cell_type": "markdown",
   "id": "0ae0861e",
   "metadata": {},
   "source": [
    "## Load and Prepare Data"
   ]
  },
  {
   "cell_type": "code",
   "execution_count": null,
   "id": "d88eb6ed",
   "metadata": {},
   "outputs": [
    {
     "ename": "FileNotFoundError",
     "evalue": "[Errno 2] No such file or directory: 'data/MMSE_Context_Prompts_Train.csv'",
     "output_type": "error",
     "traceback": [
      "\u001b[0;31m---------------------------------------------------------------------------\u001b[0m",
      "\u001b[0;31mFileNotFoundError\u001b[0m                         Traceback (most recent call last)",
      "Cell \u001b[0;32mIn[90], line 33\u001b[0m\n\u001b[1;32m     30\u001b[0m df_prompts_train \u001b[38;5;241m=\u001b[39m pd\u001b[38;5;241m.\u001b[39mread_csv(\u001b[38;5;124m\"\u001b[39m\u001b[38;5;124mdata/MMSE_Prompts_Train.csv\u001b[39m\u001b[38;5;124m\"\u001b[39m)\n\u001b[1;32m     31\u001b[0m df_prompts_test \u001b[38;5;241m=\u001b[39m pd\u001b[38;5;241m.\u001b[39mread_csv(\u001b[38;5;124m\"\u001b[39m\u001b[38;5;124mdata/MMSE_Prompts_Test.csv\u001b[39m\u001b[38;5;124m\"\u001b[39m)\n\u001b[0;32m---> 33\u001b[0m df_context_promts_train \u001b[38;5;241m=\u001b[39m \u001b[43mpd\u001b[49m\u001b[38;5;241;43m.\u001b[39;49m\u001b[43mread_csv\u001b[49m\u001b[43m(\u001b[49m\u001b[38;5;124;43m\"\u001b[39;49m\u001b[38;5;124;43mdata/MMSE_Context_Prompts_Train.csv\u001b[39;49m\u001b[38;5;124;43m\"\u001b[39;49m\u001b[43m)\u001b[49m\n\u001b[1;32m     34\u001b[0m df_context_promts_test \u001b[38;5;241m=\u001b[39m pd\u001b[38;5;241m.\u001b[39mread_csv(\u001b[38;5;124m\"\u001b[39m\u001b[38;5;124mdata/MMSE_Context_Prompts_Test.csv\u001b[39m\u001b[38;5;124m\"\u001b[39m)\n",
      "File \u001b[0;32m/Library/Frameworks/Python.framework/Versions/3.13/lib/python3.13/site-packages/pandas/io/parsers/readers.py:1026\u001b[0m, in \u001b[0;36mread_csv\u001b[0;34m(filepath_or_buffer, sep, delimiter, header, names, index_col, usecols, dtype, engine, converters, true_values, false_values, skipinitialspace, skiprows, skipfooter, nrows, na_values, keep_default_na, na_filter, verbose, skip_blank_lines, parse_dates, infer_datetime_format, keep_date_col, date_parser, date_format, dayfirst, cache_dates, iterator, chunksize, compression, thousands, decimal, lineterminator, quotechar, quoting, doublequote, escapechar, comment, encoding, encoding_errors, dialect, on_bad_lines, delim_whitespace, low_memory, memory_map, float_precision, storage_options, dtype_backend)\u001b[0m\n\u001b[1;32m   1013\u001b[0m kwds_defaults \u001b[38;5;241m=\u001b[39m _refine_defaults_read(\n\u001b[1;32m   1014\u001b[0m     dialect,\n\u001b[1;32m   1015\u001b[0m     delimiter,\n\u001b[0;32m   (...)\u001b[0m\n\u001b[1;32m   1022\u001b[0m     dtype_backend\u001b[38;5;241m=\u001b[39mdtype_backend,\n\u001b[1;32m   1023\u001b[0m )\n\u001b[1;32m   1024\u001b[0m kwds\u001b[38;5;241m.\u001b[39mupdate(kwds_defaults)\n\u001b[0;32m-> 1026\u001b[0m \u001b[38;5;28;01mreturn\u001b[39;00m \u001b[43m_read\u001b[49m\u001b[43m(\u001b[49m\u001b[43mfilepath_or_buffer\u001b[49m\u001b[43m,\u001b[49m\u001b[43m \u001b[49m\u001b[43mkwds\u001b[49m\u001b[43m)\u001b[49m\n",
      "File \u001b[0;32m/Library/Frameworks/Python.framework/Versions/3.13/lib/python3.13/site-packages/pandas/io/parsers/readers.py:620\u001b[0m, in \u001b[0;36m_read\u001b[0;34m(filepath_or_buffer, kwds)\u001b[0m\n\u001b[1;32m    617\u001b[0m _validate_names(kwds\u001b[38;5;241m.\u001b[39mget(\u001b[38;5;124m\"\u001b[39m\u001b[38;5;124mnames\u001b[39m\u001b[38;5;124m\"\u001b[39m, \u001b[38;5;28;01mNone\u001b[39;00m))\n\u001b[1;32m    619\u001b[0m \u001b[38;5;66;03m# Create the parser.\u001b[39;00m\n\u001b[0;32m--> 620\u001b[0m parser \u001b[38;5;241m=\u001b[39m \u001b[43mTextFileReader\u001b[49m\u001b[43m(\u001b[49m\u001b[43mfilepath_or_buffer\u001b[49m\u001b[43m,\u001b[49m\u001b[43m \u001b[49m\u001b[38;5;241;43m*\u001b[39;49m\u001b[38;5;241;43m*\u001b[39;49m\u001b[43mkwds\u001b[49m\u001b[43m)\u001b[49m\n\u001b[1;32m    622\u001b[0m \u001b[38;5;28;01mif\u001b[39;00m chunksize \u001b[38;5;129;01mor\u001b[39;00m iterator:\n\u001b[1;32m    623\u001b[0m     \u001b[38;5;28;01mreturn\u001b[39;00m parser\n",
      "File \u001b[0;32m/Library/Frameworks/Python.framework/Versions/3.13/lib/python3.13/site-packages/pandas/io/parsers/readers.py:1620\u001b[0m, in \u001b[0;36mTextFileReader.__init__\u001b[0;34m(self, f, engine, **kwds)\u001b[0m\n\u001b[1;32m   1617\u001b[0m     \u001b[38;5;28mself\u001b[39m\u001b[38;5;241m.\u001b[39moptions[\u001b[38;5;124m\"\u001b[39m\u001b[38;5;124mhas_index_names\u001b[39m\u001b[38;5;124m\"\u001b[39m] \u001b[38;5;241m=\u001b[39m kwds[\u001b[38;5;124m\"\u001b[39m\u001b[38;5;124mhas_index_names\u001b[39m\u001b[38;5;124m\"\u001b[39m]\n\u001b[1;32m   1619\u001b[0m \u001b[38;5;28mself\u001b[39m\u001b[38;5;241m.\u001b[39mhandles: IOHandles \u001b[38;5;241m|\u001b[39m \u001b[38;5;28;01mNone\u001b[39;00m \u001b[38;5;241m=\u001b[39m \u001b[38;5;28;01mNone\u001b[39;00m\n\u001b[0;32m-> 1620\u001b[0m \u001b[38;5;28mself\u001b[39m\u001b[38;5;241m.\u001b[39m_engine \u001b[38;5;241m=\u001b[39m \u001b[38;5;28;43mself\u001b[39;49m\u001b[38;5;241;43m.\u001b[39;49m\u001b[43m_make_engine\u001b[49m\u001b[43m(\u001b[49m\u001b[43mf\u001b[49m\u001b[43m,\u001b[49m\u001b[43m \u001b[49m\u001b[38;5;28;43mself\u001b[39;49m\u001b[38;5;241;43m.\u001b[39;49m\u001b[43mengine\u001b[49m\u001b[43m)\u001b[49m\n",
      "File \u001b[0;32m/Library/Frameworks/Python.framework/Versions/3.13/lib/python3.13/site-packages/pandas/io/parsers/readers.py:1880\u001b[0m, in \u001b[0;36mTextFileReader._make_engine\u001b[0;34m(self, f, engine)\u001b[0m\n\u001b[1;32m   1878\u001b[0m     \u001b[38;5;28;01mif\u001b[39;00m \u001b[38;5;124m\"\u001b[39m\u001b[38;5;124mb\u001b[39m\u001b[38;5;124m\"\u001b[39m \u001b[38;5;129;01mnot\u001b[39;00m \u001b[38;5;129;01min\u001b[39;00m mode:\n\u001b[1;32m   1879\u001b[0m         mode \u001b[38;5;241m+\u001b[39m\u001b[38;5;241m=\u001b[39m \u001b[38;5;124m\"\u001b[39m\u001b[38;5;124mb\u001b[39m\u001b[38;5;124m\"\u001b[39m\n\u001b[0;32m-> 1880\u001b[0m \u001b[38;5;28mself\u001b[39m\u001b[38;5;241m.\u001b[39mhandles \u001b[38;5;241m=\u001b[39m \u001b[43mget_handle\u001b[49m\u001b[43m(\u001b[49m\n\u001b[1;32m   1881\u001b[0m \u001b[43m    \u001b[49m\u001b[43mf\u001b[49m\u001b[43m,\u001b[49m\n\u001b[1;32m   1882\u001b[0m \u001b[43m    \u001b[49m\u001b[43mmode\u001b[49m\u001b[43m,\u001b[49m\n\u001b[1;32m   1883\u001b[0m \u001b[43m    \u001b[49m\u001b[43mencoding\u001b[49m\u001b[38;5;241;43m=\u001b[39;49m\u001b[38;5;28;43mself\u001b[39;49m\u001b[38;5;241;43m.\u001b[39;49m\u001b[43moptions\u001b[49m\u001b[38;5;241;43m.\u001b[39;49m\u001b[43mget\u001b[49m\u001b[43m(\u001b[49m\u001b[38;5;124;43m\"\u001b[39;49m\u001b[38;5;124;43mencoding\u001b[39;49m\u001b[38;5;124;43m\"\u001b[39;49m\u001b[43m,\u001b[49m\u001b[43m \u001b[49m\u001b[38;5;28;43;01mNone\u001b[39;49;00m\u001b[43m)\u001b[49m\u001b[43m,\u001b[49m\n\u001b[1;32m   1884\u001b[0m \u001b[43m    \u001b[49m\u001b[43mcompression\u001b[49m\u001b[38;5;241;43m=\u001b[39;49m\u001b[38;5;28;43mself\u001b[39;49m\u001b[38;5;241;43m.\u001b[39;49m\u001b[43moptions\u001b[49m\u001b[38;5;241;43m.\u001b[39;49m\u001b[43mget\u001b[49m\u001b[43m(\u001b[49m\u001b[38;5;124;43m\"\u001b[39;49m\u001b[38;5;124;43mcompression\u001b[39;49m\u001b[38;5;124;43m\"\u001b[39;49m\u001b[43m,\u001b[49m\u001b[43m \u001b[49m\u001b[38;5;28;43;01mNone\u001b[39;49;00m\u001b[43m)\u001b[49m\u001b[43m,\u001b[49m\n\u001b[1;32m   1885\u001b[0m \u001b[43m    \u001b[49m\u001b[43mmemory_map\u001b[49m\u001b[38;5;241;43m=\u001b[39;49m\u001b[38;5;28;43mself\u001b[39;49m\u001b[38;5;241;43m.\u001b[39;49m\u001b[43moptions\u001b[49m\u001b[38;5;241;43m.\u001b[39;49m\u001b[43mget\u001b[49m\u001b[43m(\u001b[49m\u001b[38;5;124;43m\"\u001b[39;49m\u001b[38;5;124;43mmemory_map\u001b[39;49m\u001b[38;5;124;43m\"\u001b[39;49m\u001b[43m,\u001b[49m\u001b[43m \u001b[49m\u001b[38;5;28;43;01mFalse\u001b[39;49;00m\u001b[43m)\u001b[49m\u001b[43m,\u001b[49m\n\u001b[1;32m   1886\u001b[0m \u001b[43m    \u001b[49m\u001b[43mis_text\u001b[49m\u001b[38;5;241;43m=\u001b[39;49m\u001b[43mis_text\u001b[49m\u001b[43m,\u001b[49m\n\u001b[1;32m   1887\u001b[0m \u001b[43m    \u001b[49m\u001b[43merrors\u001b[49m\u001b[38;5;241;43m=\u001b[39;49m\u001b[38;5;28;43mself\u001b[39;49m\u001b[38;5;241;43m.\u001b[39;49m\u001b[43moptions\u001b[49m\u001b[38;5;241;43m.\u001b[39;49m\u001b[43mget\u001b[49m\u001b[43m(\u001b[49m\u001b[38;5;124;43m\"\u001b[39;49m\u001b[38;5;124;43mencoding_errors\u001b[39;49m\u001b[38;5;124;43m\"\u001b[39;49m\u001b[43m,\u001b[49m\u001b[43m \u001b[49m\u001b[38;5;124;43m\"\u001b[39;49m\u001b[38;5;124;43mstrict\u001b[39;49m\u001b[38;5;124;43m\"\u001b[39;49m\u001b[43m)\u001b[49m\u001b[43m,\u001b[49m\n\u001b[1;32m   1888\u001b[0m \u001b[43m    \u001b[49m\u001b[43mstorage_options\u001b[49m\u001b[38;5;241;43m=\u001b[39;49m\u001b[38;5;28;43mself\u001b[39;49m\u001b[38;5;241;43m.\u001b[39;49m\u001b[43moptions\u001b[49m\u001b[38;5;241;43m.\u001b[39;49m\u001b[43mget\u001b[49m\u001b[43m(\u001b[49m\u001b[38;5;124;43m\"\u001b[39;49m\u001b[38;5;124;43mstorage_options\u001b[39;49m\u001b[38;5;124;43m\"\u001b[39;49m\u001b[43m,\u001b[49m\u001b[43m \u001b[49m\u001b[38;5;28;43;01mNone\u001b[39;49;00m\u001b[43m)\u001b[49m\u001b[43m,\u001b[49m\n\u001b[1;32m   1889\u001b[0m \u001b[43m\u001b[49m\u001b[43m)\u001b[49m\n\u001b[1;32m   1890\u001b[0m \u001b[38;5;28;01massert\u001b[39;00m \u001b[38;5;28mself\u001b[39m\u001b[38;5;241m.\u001b[39mhandles \u001b[38;5;129;01mis\u001b[39;00m \u001b[38;5;129;01mnot\u001b[39;00m \u001b[38;5;28;01mNone\u001b[39;00m\n\u001b[1;32m   1891\u001b[0m f \u001b[38;5;241m=\u001b[39m \u001b[38;5;28mself\u001b[39m\u001b[38;5;241m.\u001b[39mhandles\u001b[38;5;241m.\u001b[39mhandle\n",
      "File \u001b[0;32m/Library/Frameworks/Python.framework/Versions/3.13/lib/python3.13/site-packages/pandas/io/common.py:873\u001b[0m, in \u001b[0;36mget_handle\u001b[0;34m(path_or_buf, mode, encoding, compression, memory_map, is_text, errors, storage_options)\u001b[0m\n\u001b[1;32m    868\u001b[0m \u001b[38;5;28;01melif\u001b[39;00m \u001b[38;5;28misinstance\u001b[39m(handle, \u001b[38;5;28mstr\u001b[39m):\n\u001b[1;32m    869\u001b[0m     \u001b[38;5;66;03m# Check whether the filename is to be opened in binary mode.\u001b[39;00m\n\u001b[1;32m    870\u001b[0m     \u001b[38;5;66;03m# Binary mode does not support 'encoding' and 'newline'.\u001b[39;00m\n\u001b[1;32m    871\u001b[0m     \u001b[38;5;28;01mif\u001b[39;00m ioargs\u001b[38;5;241m.\u001b[39mencoding \u001b[38;5;129;01mand\u001b[39;00m \u001b[38;5;124m\"\u001b[39m\u001b[38;5;124mb\u001b[39m\u001b[38;5;124m\"\u001b[39m \u001b[38;5;129;01mnot\u001b[39;00m \u001b[38;5;129;01min\u001b[39;00m ioargs\u001b[38;5;241m.\u001b[39mmode:\n\u001b[1;32m    872\u001b[0m         \u001b[38;5;66;03m# Encoding\u001b[39;00m\n\u001b[0;32m--> 873\u001b[0m         handle \u001b[38;5;241m=\u001b[39m \u001b[38;5;28;43mopen\u001b[39;49m\u001b[43m(\u001b[49m\n\u001b[1;32m    874\u001b[0m \u001b[43m            \u001b[49m\u001b[43mhandle\u001b[49m\u001b[43m,\u001b[49m\n\u001b[1;32m    875\u001b[0m \u001b[43m            \u001b[49m\u001b[43mioargs\u001b[49m\u001b[38;5;241;43m.\u001b[39;49m\u001b[43mmode\u001b[49m\u001b[43m,\u001b[49m\n\u001b[1;32m    876\u001b[0m \u001b[43m            \u001b[49m\u001b[43mencoding\u001b[49m\u001b[38;5;241;43m=\u001b[39;49m\u001b[43mioargs\u001b[49m\u001b[38;5;241;43m.\u001b[39;49m\u001b[43mencoding\u001b[49m\u001b[43m,\u001b[49m\n\u001b[1;32m    877\u001b[0m \u001b[43m            \u001b[49m\u001b[43merrors\u001b[49m\u001b[38;5;241;43m=\u001b[39;49m\u001b[43merrors\u001b[49m\u001b[43m,\u001b[49m\n\u001b[1;32m    878\u001b[0m \u001b[43m            \u001b[49m\u001b[43mnewline\u001b[49m\u001b[38;5;241;43m=\u001b[39;49m\u001b[38;5;124;43m\"\u001b[39;49m\u001b[38;5;124;43m\"\u001b[39;49m\u001b[43m,\u001b[49m\n\u001b[1;32m    879\u001b[0m \u001b[43m        \u001b[49m\u001b[43m)\u001b[49m\n\u001b[1;32m    880\u001b[0m     \u001b[38;5;28;01melse\u001b[39;00m:\n\u001b[1;32m    881\u001b[0m         \u001b[38;5;66;03m# Binary mode\u001b[39;00m\n\u001b[1;32m    882\u001b[0m         handle \u001b[38;5;241m=\u001b[39m \u001b[38;5;28mopen\u001b[39m(handle, ioargs\u001b[38;5;241m.\u001b[39mmode)\n",
      "\u001b[0;31mFileNotFoundError\u001b[0m: [Errno 2] No such file or directory: 'data/MMSE_Context_Prompts_Train.csv'"
     ]
    }
   ],
   "source": [
    "# Load dataset\n",
    "df = pd.read_csv(\"data/TrainTest_Table.csv\")\n",
    "\n",
    "# Split into train and test based on 'Split' column\n",
    "df_train = df[df['Split'] == 'Train']\n",
    "df_test = df[df['Split'] == 'Test']\n",
    "\n",
    "# Define MMSE question columns\n",
    "mmse_cols = [\n",
    "    # A. Orientation\n",
    "    \"MMYEAR\", \"MMMONTH\", \"MMDAY\", \"MMSEASON\", \"MMDATE\",\n",
    "    \"MMSTATE\", \"MMCITY\", \"MMAREA\", \"MMHOSPIT\", \"MMFLOOR\",\n",
    "\n",
    "    # B. Registration\n",
    "    \"WORD1\", \"WORD2\", \"WORD3\",\n",
    "\n",
    "    # C. Attention and Calculation – Serial 7s only\n",
    "    \"MMD\", \"MML\", \"MMR\", \"MMO\", \"MMW\",\n",
    "\n",
    "    # D. Recall\n",
    "    \"WORD1DL\", \"WORD2DL\", \"WORD3DL\",\n",
    "\n",
    "    # E. Language\n",
    "    \"MMWATCH\", \"MMPENCIL\", \"MMREPEAT\",\n",
    "    \"MMHAND\", \"MMFOLD\", \"MMONFLR\",\n",
    "    \"MMREAD\", \"MMWRITE\", \"MMDRAW\"\n",
    "]\n",
    "\n",
    "# Load the saved dataframes with embeddings\n",
    "df_prompts_train = pd.read_csv(\"data/MMSE_Prompts_Train.csv\")\n",
    "df_prompts_test = pd.read_csv(\"data/MMSE_Prompts_Test.csv\")\n",
    "\n",
    "df_context_promts_train = pd.read_csv(\"data/MMSE_Context_Prompts_Train.csv\")\n",
    "df_context_promts_test = pd.read_csv(\"data/MMSE_Context_Promts_Test.csv\")"
   ]
  },
  {
   "cell_type": "markdown",
   "id": "e8dd1515",
   "metadata": {},
   "source": [
    "## Logistic Regression on MMSCORE with Bootstrapping"
   ]
  },
  {
   "cell_type": "code",
   "execution_count": 81,
   "id": "9b97b66d",
   "metadata": {},
   "outputs": [
    {
     "name": "stdout",
     "output_type": "stream",
     "text": [
      "\n",
      "===== Odds Ratios (one-time fit) — MMSE Score =====\n",
      "           Odds Ratio   95% CI Lower  95% CI Upper       p-value\n",
      "const    1.108315e+07  584766.636652  2.100603e+08  3.205904e-27\n",
      "MMSCORE  5.208992e-01       0.467053  5.809535e-01  1.066395e-31\n",
      "\n",
      "===== Bootstrapped Metrics (1000 runs) - MMSE Score =====\n",
      "AUC: Mean = 0.7946, 95% CI = [0.7893, 0.8066]\n",
      "Balanced Accuracy: Mean = 0.6498, 95% CI = [0.6437, 0.6546]\n",
      "Sensitivity: Mean = 0.3209, 95% CI = [0.3091, 0.3273]\n",
      "Specificity: Mean = 0.9787, 95% CI = [0.9783, 0.9819]\n",
      "F1-score: Mean = 0.4493, 95% CI = [0.4359, 0.4615]\n"
     ]
    }
   ],
   "source": [
    "# Define features and target\n",
    "X_train = df_train[['MMSCORE']]\n",
    "y_train = df_train['AD']\n",
    "X_test = df_test[['MMSCORE']]\n",
    "y_test = df_test['AD']\n",
    "\n",
    "# Run bootstrapped logistic regression\n",
    "results = bootstrap_metrics(\n",
    "    df_train=X_train,\n",
    "    df_test=X_test,\n",
    "    independent_vars=['MMSCORE'],\n",
    "    dep_var_train=y_train,\n",
    "    dep_var_test=y_test,\n",
    "    n_bootstrap=1000,\n",
    "    threshold=0.5\n",
    ")\n",
    "\n",
    "# Display results\n",
    "print(\"\\n===== Odds Ratios (one-time fit) — MMSE Score =====\")\n",
    "print(results[\"Odds Ratios (one-time fit)\"])\n",
    "\n",
    "print(\"\\n===== Bootstrapped Metrics (1000 runs) - MMSE Score =====\")\n",
    "for metric, (mean, ci) in results[\"Bootstrapped Metrics\"].items():\n",
    "    print(f\"{metric}: Mean = {mean:.4f}, 95% CI = [{ci[0]:.4f}, {ci[1]:.4f}]\")"
   ]
  },
  {
   "cell_type": "markdown",
   "id": "9e203bf7",
   "metadata": {},
   "source": [
    "## Logistic Regression on MMSE Questions with Bootstrapping"
   ]
  },
  {
   "cell_type": "code",
   "execution_count": 82,
   "id": "881fdcd1",
   "metadata": {},
   "outputs": [
    {
     "name": "stdout",
     "output_type": "stream",
     "text": [
      "\n",
      "===== Odds Ratios (one-time fit) — MMSE Questions =====\n",
      "        Odds Ratio  95% CI Lower  95% CI Upper        p-value\n",
      "const     0.728889      0.659118      0.806046   7.276976e-10\n",
      "Result    0.246591      0.221570      0.274438  4.657922e-145\n",
      "\n",
      "===== Bootstrapped Metrics (1000 runs) — MMSE Questions =====\n",
      "AUC: Mean = 0.5475, 95% CI = [0.5473, 0.5476]\n",
      "Balanced Accuracy: Mean = 0.5000, 95% CI = [0.5000, 0.5000]\n",
      "Sensitivity: Mean = 0.0000, 95% CI = [0.0000, 0.0000]\n",
      "Specificity: Mean = 1.0000, 95% CI = [1.0000, 1.0000]\n",
      "F1-score: Mean = 0.0000, 95% CI = [0.0000, 0.0000]\n"
     ]
    }
   ],
   "source": [
    "def generate_mmseq_ad_pairs(df, mmse_cols):\n",
    "    \"\"\"\n",
    "    Generates a DataFrame with MMSE question and corresponding AD labels of the same row.\n",
    "    Each MMSE question is treated as an independent feature.\n",
    "    Args:\n",
    "        df (pd.DataFrame): DataFrame containing MMSE questions and AD labels.\n",
    "        mmse_cols (list): List of MMSE question columns.\n",
    "    Returns:\n",
    "        pd.DataFrame: DataFrame with MMSE question results and corresponding AD labels.\n",
    "    \"\"\"\n",
    "    mmse_ad_pairs = []\n",
    "    for col in mmse_cols:\n",
    "        for _, row in df.iterrows():\n",
    "            if pd.notnull(row[col]):\n",
    "                mmse_ad_pairs.append({\n",
    "                    'Result': row[col],\n",
    "                    'AD': row['AD'],\n",
    "                })\n",
    "    return pd.DataFrame(mmse_ad_pairs)\n",
    "# Generate MMSE-AD pairs for training and testing sets\n",
    "df_train_mmse = generate_mmseq_ad_pairs(df_train, mmse_cols)\n",
    "df_test_mmse = generate_mmseq_ad_pairs(df_test, mmse_cols)\n",
    "\n",
    "# Define features and target\n",
    "X_train_mmse = df_train_mmse[['Result']]\n",
    "y_train_mmse = df_train_mmse['AD']\n",
    "X_test_mmse = df_test_mmse[['Result']]\n",
    "y_test_mmse = df_test_mmse['AD']\n",
    "\n",
    "# Run bootstrapped logistic regression on MMSE questions\n",
    "results_mmse = bootstrap_metrics(\n",
    "    df_train=X_train_mmse,\n",
    "    df_test=X_test_mmse,\n",
    "    independent_vars=['Result'],\n",
    "    dep_var_train=y_train_mmse,\n",
    "    dep_var_test=y_test_mmse,\n",
    "    n_bootstrap=1000,\n",
    "    threshold=0.5\n",
    ")\n",
    "\n",
    "# Show odds ratios\n",
    "print(\"\\n===== Odds Ratios (one-time fit) — MMSE Questions =====\")\n",
    "print(results_mmse[\"Odds Ratios (one-time fit)\"])\n",
    "\n",
    "# Show bootstrapped metrics\n",
    "print(\"\\n===== Bootstrapped Metrics (1000 runs) — MMSE Questions =====\")\n",
    "for metric, (mean, ci) in results_mmse[\"Bootstrapped Metrics\"].items():\n",
    "    print(f\"{metric}: Mean = {mean:.4f}, 95% CI = [{ci[0]:.4f}, {ci[1]:.4f}]\")"
   ]
  },
  {
   "cell_type": "markdown",
   "id": "705509b8",
   "metadata": {},
   "source": [
    "## Logistic Regression on Embeddings with Bootstrapping"
   ]
  },
  {
   "cell_type": "code",
   "execution_count": 88,
   "id": "cd132505",
   "metadata": {},
   "outputs": [
    {
     "name": "stderr",
     "output_type": "stream",
     "text": [
      "/Library/Frameworks/Python.framework/Versions/3.13/lib/python3.13/site-packages/statsmodels/base/model.py:607: ConvergenceWarning: Maximum Likelihood optimization failed to converge. Check mle_retvals\n",
      "  warnings.warn(\"Maximum Likelihood optimization failed to \"\n",
      "/Library/Frameworks/Python.framework/Versions/3.13/lib/python3.13/site-packages/pandas/core/arraylike.py:399: RuntimeWarning: overflow encountered in exp\n",
      "  result = getattr(ufunc, method)(*inputs, **kwargs)\n"
     ]
    },
    {
     "name": "stdout",
     "output_type": "stream",
     "text": [
      "\n",
      "===== Odds Ratios (one-time fit) — Embeddings =====\n",
      "               Odds Ratio  95% CI Lower  95% CI Upper   p-value\n",
      "const            0.960565           NaN           NaN       NaN\n",
      "Embedding_0      0.322098           NaN           NaN       NaN\n",
      "Embedding_1      0.403917           NaN           NaN       NaN\n",
      "Embedding_2      1.275264           0.0           inf  0.999999\n",
      "Embedding_3      4.317501           0.0           inf  0.999998\n",
      "...                   ...           ...           ...       ...\n",
      "Embedding_763    0.034894           NaN           NaN       NaN\n",
      "Embedding_764    0.267193           0.0           inf  0.999997\n",
      "Embedding_765   10.559986           NaN           NaN       NaN\n",
      "Embedding_766    1.046758           NaN           NaN       NaN\n",
      "Embedding_767   26.726774           0.0           inf  0.999988\n",
      "\n",
      "[769 rows x 4 columns]\n",
      "\n",
      "===== Bootstrapped Metrics (1000 runs) — Embeddings =====\n",
      "AUC: Mean = 0.5747, 95% CI = [0.5744, 0.5751]\n",
      "Balanced Accuracy: Mean = 0.5144, 95% CI = [0.5141, 0.5145]\n",
      "Sensitivity: Mean = 0.0381, 95% CI = [0.0375, 0.0381]\n",
      "Specificity: Mean = 0.9907, 95% CI = [0.9907, 0.9909]\n",
      "F1-score: Mean = 0.0703, 95% CI = [0.0692, 0.0703]\n"
     ]
    }
   ],
   "source": [
    "# Define features and target\n",
    "embedding_cols = [col for col in df_prompts_train.columns if col.startswith(\"Embedding_\")]\n",
    "X_train_embeddings = df_prompts_train[embedding_cols].values\n",
    "X_test_embeddings = df_prompts_test[embedding_cols].values\n",
    "y_train_embeddings = df_prompts_train['AD'].values\n",
    "y_test_embeddings = df_prompts_test['AD'].values\n",
    "\n",
    "# Run bootstrapped logistic regression on embeddings\n",
    "results = bootstrap_metrics(\n",
    "    df_train=pd.DataFrame(X_train_embeddings, columns=embedding_cols),\n",
    "    df_test=pd.DataFrame(X_test_embeddings, columns=embedding_cols),\n",
    "    independent_vars=embedding_cols,  # Use embedding column names\n",
    "    dep_var_train=pd.Series(y_train_embeddings),\n",
    "    dep_var_test=pd.Series(y_test_embeddings),\n",
    "    n_bootstrap=1000,  # Number of bootstrap iterations\n",
    "    threshold=0.5      # Classification threshold\n",
    ")\n",
    "\n",
    "# Show odds ratios\n",
    "print(\"\\n===== Odds Ratios (one-time fit) — Embeddings =====\")\n",
    "print(results[\"Odds Ratios (one-time fit)\"])\n",
    "\n",
    "# Show bootstrapped metrics\n",
    "print(\"\\n===== Bootstrapped Metrics (1000 runs) — Embeddings =====\")\n",
    "for metric, (mean, ci) in results[\"Bootstrapped Metrics\"].items():\n",
    "    print(f\"{metric}: Mean = {mean:.4f}, 95% CI = [{ci[0]:.4f}, {ci[1]:.4f}]\")"
   ]
  },
  {
   "cell_type": "markdown",
   "id": "3df810f0",
   "metadata": {},
   "source": [
    "## Logistic Regression on Contextual Embeddings with Bootstrapping"
   ]
  },
  {
   "cell_type": "code",
   "execution_count": 84,
   "id": "39b2cfa6",
   "metadata": {},
   "outputs": [
    {
     "ename": "NameError",
     "evalue": "name 'df_context_promts_train' is not defined",
     "output_type": "error",
     "traceback": [
      "\u001b[0;31m---------------------------------------------------------------------------\u001b[0m",
      "\u001b[0;31mNameError\u001b[0m                                 Traceback (most recent call last)",
      "Cell \u001b[0;32mIn[84], line 2\u001b[0m\n\u001b[1;32m      1\u001b[0m \u001b[38;5;66;03m# Define features and target\u001b[39;00m\n\u001b[0;32m----> 2\u001b[0m embedding_cols \u001b[38;5;241m=\u001b[39m [col \u001b[38;5;28;01mfor\u001b[39;00m col \u001b[38;5;129;01min\u001b[39;00m \u001b[43mdf_context_promts_train\u001b[49m\u001b[38;5;241m.\u001b[39mcolumns \u001b[38;5;28;01mif\u001b[39;00m col\u001b[38;5;241m.\u001b[39mstartswith(\u001b[38;5;124m\"\u001b[39m\u001b[38;5;124mEmbedding_\u001b[39m\u001b[38;5;124m\"\u001b[39m)]\n\u001b[1;32m      3\u001b[0m X_train_embeddings \u001b[38;5;241m=\u001b[39m df_prompts_train[embedding_cols]\u001b[38;5;241m.\u001b[39mvalues\n\u001b[1;32m      4\u001b[0m X_test_embeddings \u001b[38;5;241m=\u001b[39m df_prompts_test[embedding_cols]\u001b[38;5;241m.\u001b[39mvalues\n",
      "\u001b[0;31mNameError\u001b[0m: name 'df_context_promts_train' is not defined"
     ]
    }
   ],
   "source": [
    "# Define features and target\n",
    "embedding_cols = [col for col in df_context_promts_train.columns if col.startswith(\"Embedding_\")]\n",
    "X_train_embeddings = df_prompts_train[embedding_cols].values\n",
    "X_test_embeddings = df_prompts_test[embedding_cols].values\n",
    "y_train_embeddings = df_prompts_train['AD'].values\n",
    "y_test_embeddings = df_prompts_test['AD'].values\n",
    "\n",
    "# Run bootstrapped logistic regression on embeddings\n",
    "results = bootstrap_metrics(\n",
    "    df_train=pd.DataFrame(X_train_embeddings, columns=embedding_cols),\n",
    "    df_test=pd.DataFrame(X_test_embeddings, columns=embedding_cols),\n",
    "    independent_vars=embedding_cols,  # Use embedding column names\n",
    "    dep_var_train=pd.Series(y_train_embeddings),\n",
    "    dep_var_test=pd.Series(y_test_embeddings),\n",
    "    n_bootstrap=1000,  # Number of bootstrap iterations\n",
    "    threshold=0.5      # Classification threshold\n",
    ")\n",
    "\n",
    "# Show odds ratios\n",
    "print(\"\\n===== Odds Ratios (one-time fit) — Contextual Embeddings =====\")\n",
    "print(results[\"Odds Ratios (one-time fit)\"])\n",
    "\n",
    "# Show bootstrapped metrics\n",
    "print(\"\\n===== Bootstrapped Metrics (1000 runs) — Contextual Embeddings =====\")\n",
    "for metric, (mean, ci) in results[\"Bootstrapped Metrics\"].items():\n",
    "    print(f\"{metric}: Mean = {mean:.4f}, 95% CI = [{ci[0]:.4f}, {ci[1]:.4f}]\")"
   ]
  }
 ],
 "metadata": {
  "kernelspec": {
   "display_name": "Python 3",
   "language": "python",
   "name": "python3"
  },
  "language_info": {
   "codemirror_mode": {
    "name": "ipython",
    "version": 3
   },
   "file_extension": ".py",
   "mimetype": "text/x-python",
   "name": "python",
   "nbconvert_exporter": "python",
   "pygments_lexer": "ipython3",
   "version": "3.13.1"
  }
 },
 "nbformat": 4,
 "nbformat_minor": 5
}
