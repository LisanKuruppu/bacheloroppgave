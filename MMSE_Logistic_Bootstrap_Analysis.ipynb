{
 "cells": [
  {
   "cell_type": "markdown",
   "id": "c454b9fa",
   "metadata": {},
   "source": [
    "# Alzheimer's Prediction using MMSE Features\n",
    "This notebook runs logistic regression with bootstrapping on MMSCORE and MMSE questions to predict Alzheimer's Disease (AD)."
   ]
  },
  {
   "cell_type": "code",
   "execution_count": null,
   "id": "7afdff0f",
   "metadata": {},
   "outputs": [],
   "source": [
    "import numpy as np\n",
    "import pandas as pd\n",
    "import statsmodels.api as sm\n",
    "from Logistic_bootstrap_metrics import *\n",
    "from statsmodels.stats.outliers_influence import variance_inflation_factor\n"
   ]
  },
  {
   "cell_type": "markdown",
   "id": "0ae0861e",
   "metadata": {},
   "source": [
    "## Load and Prepare Data"
   ]
  },
  {
   "cell_type": "code",
   "execution_count": 52,
   "id": "d88eb6ed",
   "metadata": {},
   "outputs": [],
   "source": [
    "# Load dataset\n",
    "df = pd.read_csv(\"data/TrainTest_Table.csv\")\n",
    "\n",
    "# Split into train and test based on 'Split' column\n",
    "df_train = df[df['Split'] == 'Train']\n",
    "df_test = df[df['Split'] == 'Test']\n",
    "\n",
    "# Define MMSE question columns\n",
    "mmse_cols = [\n",
    "    # A. Orientation\n",
    "    \"MMYEAR\", \"MMMONTH\", \"MMDAY\", \"MMSEASON\", \"MMDATE\",\n",
    "    \"MMSTATE\", \"MMCITY\", \"MMAREA\", \"MMHOSPIT\", \"MMFLOOR\",\n",
    "\n",
    "    # B. Registration\n",
    "    \"WORD1\", \"WORD2\", \"WORD3\",\n",
    "\n",
    "    # C. Attention and Calculation – Serial 7s only\n",
    "    \"MMD\", \"MML\", \"MMR\", \"MMO\", \"MMW\",\n",
    "\n",
    "    # D. Recall\n",
    "    \"WORD1DL\", \"WORD2DL\", \"WORD3DL\",\n",
    "\n",
    "    # E. Language\n",
    "    \"MMWATCH\", \"MMPENCIL\", \"MMREPEAT\",\n",
    "    \"MMHAND\", \"MMFOLD\", \"MMONFLR\",\n",
    "    \"MMREAD\", \"MMWRITE\", \"MMDRAW\"\n",
    "]"
   ]
  },
  {
   "cell_type": "markdown",
   "id": "e8dd1515",
   "metadata": {},
   "source": [
    "## Logistic Regression on MMSCORE with Bootstrapping"
   ]
  },
  {
   "cell_type": "code",
   "execution_count": 53,
   "id": "9b97b66d",
   "metadata": {},
   "outputs": [
    {
     "name": "stdout",
     "output_type": "stream",
     "text": [
      "\n",
      "===== Odds Ratios (one-time fit) — MMSE Score =====\n",
      "           Odds Ratio   95% CI Lower  95% CI Upper       p-value\n",
      "const    1.108315e+07  584766.636652  2.100603e+08  3.205904e-27\n",
      "MMSCORE  5.208992e-01       0.467053  5.809535e-01  1.066395e-31\n",
      "\n",
      "===== Bootstrapped Metrics (1000 runs) - MMSE Score =====\n",
      "AUC: Mean = 0.7946, 95% CI = [0.7893, 0.8066]\n",
      "Balanced Accuracy: Mean = 0.6498, 95% CI = [0.6437, 0.6546]\n",
      "Sensitivity: Mean = 0.3209, 95% CI = [0.3091, 0.3273]\n",
      "Specificity: Mean = 0.9787, 95% CI = [0.9783, 0.9819]\n",
      "F1-score: Mean = 0.4493, 95% CI = [0.4359, 0.4615]\n"
     ]
    }
   ],
   "source": [
    "# Define features and target\n",
    "X_train = df_train[['MMSCORE']]\n",
    "y_train = df_train['AD']\n",
    "X_test = df_test[['MMSCORE']]\n",
    "y_test = df_test['AD']\n",
    "\n",
    "# Run bootstrapped logistic regression\n",
    "results = bootstrap_metrics(\n",
    "    df_train=X_train,\n",
    "    df_test=X_test,\n",
    "    independent_vars=['MMSCORE'],\n",
    "    dep_var_train=y_train,\n",
    "    dep_var_test=y_test,\n",
    "    n_bootstrap=1000,\n",
    "    threshold=0.5\n",
    ")\n",
    "\n",
    "# Display results\n",
    "print(\"\\n===== Odds Ratios (one-time fit) — MMSE Score =====\")\n",
    "print(results[\"Odds Ratios (one-time fit)\"])\n",
    "\n",
    "print(\"\\n===== Bootstrapped Metrics (1000 runs) - MMSE Score =====\")\n",
    "for metric, (mean, ci) in results[\"Bootstrapped Metrics\"].items():\n",
    "    print(f\"{metric}: Mean = {mean:.4f}, 95% CI = [{ci[0]:.4f}, {ci[1]:.4f}]\")"
   ]
  },
  {
   "cell_type": "markdown",
   "id": "9e203bf7",
   "metadata": {},
   "source": [
    "## Logistic Regression on MMSE Questions with Bootstrapping"
   ]
  },
  {
   "cell_type": "code",
   "execution_count": 54,
   "id": "881fdcd1",
   "metadata": {},
   "outputs": [
    {
     "name": "stdout",
     "output_type": "stream",
     "text": [
      "Dropping 'MMSTATE' due to high VIF: 602.54\n",
      "Dropping 'MMWATCH' due to high VIF: 386.89\n",
      "Dropping 'MMPENCIL' due to high VIF: 322.79\n",
      "Dropping 'WORD3' due to high VIF: 299.38\n",
      "Dropping 'MMD' due to high VIF: 263.78\n",
      "Dropping 'MMREAD' due to high VIF: 206.67\n",
      "Dropping 'MMFOLD' due to high VIF: 184.74\n",
      "Dropping 'WORD2' due to high VIF: 167.67\n",
      "Dropping 'MMO' due to high VIF: 126.43\n",
      "Dropping 'MMCITY' due to high VIF: 95.22\n",
      "Dropping 'WORD1' due to high VIF: 75.93\n",
      "Dropping 'MMONFLR' due to high VIF: 63.52\n",
      "Dropping 'MMW' due to high VIF: 59.63\n",
      "\n",
      "===== Odds Ratios (one-time fit) — MMSE Questions =====\n",
      "           Odds Ratio  95% CI Lower  95% CI Upper       p-value\n",
      "const     2874.301656    147.076360  56172.249455  1.515220e-07\n",
      "MMYEAR       0.545725      0.143876      2.069948  3.732575e-01\n",
      "MMMONTH      0.359933      0.114730      1.129192  7.982908e-02\n",
      "MMDAY        0.695798      0.286115      1.692101  4.237520e-01\n",
      "MMSEASON     0.441816      0.232747      0.838686  1.249263e-02\n",
      "MMDATE       0.244242      0.140575      0.424357  5.696775e-07\n",
      "MMAREA       1.261264      0.474134      3.355138  6.419395e-01\n",
      "MMHOSPIT     0.259759      0.083380      0.809241  2.007021e-02\n",
      "MMFLOOR      0.267997      0.137990      0.520492  1.010768e-04\n",
      "MML          1.325000      0.294194      5.967588  7.139910e-01\n",
      "MMR          0.264093      0.116950      0.596363  1.356565e-03\n",
      "WORD1DL      0.509035      0.280733      0.922999  2.615797e-02\n",
      "WORD2DL      0.368322      0.203182      0.667683  9.986905e-04\n",
      "WORD3DL      0.673556      0.373435      1.214878  1.891242e-01\n",
      "MMREPEAT     0.480204      0.265374      0.868946  1.534212e-02\n",
      "MMHAND       0.748652      0.333110      1.682569  4.835341e-01\n",
      "MMWRITE      0.694330      0.176854      2.725942  6.011047e-01\n",
      "MMDRAW       0.708888      0.329319      1.525943  3.790921e-01\n",
      "\n",
      "===== Bootstrapped Metrics (1000 runs) — MMSE Questions =====\n",
      "AUC: Mean = 0.7885, 95% CI = [0.7830, 0.7999]\n",
      "Balanced Accuracy: Mean = 0.6607, 95% CI = [0.6547, 0.6656]\n",
      "Sensitivity: Mean = 0.3748, 95% CI = [0.3636, 0.3818]\n",
      "Specificity: Mean = 0.9467, 95% CI = [0.9458, 0.9495]\n",
      "F1-score: Mean = 0.4561, 95% CI = [0.4444, 0.4667]\n"
     ]
    }
   ],
   "source": [
    "# Define features and target\n",
    "X_train_mmse = df_train[mmse_cols]\n",
    "y_train_mmse = df_train['AD']\n",
    "X_test_mmse = df_test[mmse_cols]\n",
    "y_test_mmse = df_test['AD']\n",
    "\n",
    "def reduce_multicollinearity(df, threshold=10):\n",
    "    \"\"\"\n",
    "    Removes variables with high VIF one by one until all remaining have VIF < threshold\n",
    "    \"\"\"\n",
    "    while True:\n",
    "        vif = pd.Series(\n",
    "            [variance_inflation_factor(df.values, i) for i in range(df.shape[1])],\n",
    "            index=df.columns\n",
    "        )\n",
    "        max_vif = vif.max()\n",
    "        if max_vif > threshold:\n",
    "            drop_col = vif.idxmax()\n",
    "            print(f\"Dropping '{drop_col}' due to high VIF: {max_vif:.2f}\")\n",
    "            df = df.drop(columns=[drop_col])\n",
    "        else:\n",
    "            break\n",
    "    return df\n",
    "\n",
    "# Step 1: Remove constant columns\n",
    "X_train_mmse = X_train_mmse.loc[:, X_train_mmse.nunique() > 1]\n",
    "X_test_mmse = X_test_mmse[X_train_mmse.columns]\n",
    "\n",
    "# Step 2: Remove perfect correlations\n",
    "corr_matrix = X_train_mmse.corr().abs()\n",
    "upper = corr_matrix.where(np.triu(np.ones(corr_matrix.shape), k=1).astype(bool))\n",
    "to_drop = [col for col in upper.columns if any(upper[col] == 1.0)]\n",
    "X_train_mmse = X_train_mmse.drop(columns=to_drop)\n",
    "X_test_mmse = X_test_mmse[X_train_mmse.columns]\n",
    "\n",
    "# Step 3: Reduce multicollinearity using VIF\n",
    "X_train_mmse = reduce_multicollinearity(X_train_mmse, threshold=50)\n",
    "X_test_mmse = X_test_mmse[X_train_mmse.columns]\n",
    "# Run bootstrapped logistic regression on MMSE questions\n",
    "results_mmse = bootstrap_metrics(\n",
    "    df_train=X_train_mmse,\n",
    "    df_test=X_test_mmse,\n",
    "    independent_vars=X_train_mmse.columns.tolist(),\n",
    "    dep_var_train=y_train_mmse,\n",
    "    dep_var_test=y_test_mmse,\n",
    "    n_bootstrap=1000,\n",
    "    threshold=0.5\n",
    ")\n",
    "\n",
    "# Show odds ratios\n",
    "print(\"\\n===== Odds Ratios (one-time fit) — MMSE Questions =====\")\n",
    "print(results_mmse[\"Odds Ratios (one-time fit)\"])\n",
    "\n",
    "# Show bootstrapped metrics\n",
    "print(\"\\n===== Bootstrapped Metrics (1000 runs) — MMSE Questions =====\")\n",
    "for metric, (mean, ci) in results_mmse[\"Bootstrapped Metrics\"].items():\n",
    "    print(f\"{metric}: Mean = {mean:.4f}, 95% CI = [{ci[0]:.4f}, {ci[1]:.4f}]\")"
   ]
  }
 ],
 "metadata": {
  "language_info": {
   "name": "python"
  }
 },
 "nbformat": 4,
 "nbformat_minor": 5
}
