{
 "cells": [
  {
   "cell_type": "code",
   "execution_count": 14,
   "id": "a569227f",
   "metadata": {},
   "outputs": [],
   "source": [
    "import numpy as np\n",
    "import pandas as pd\n",
    "import statsmodels.api as sm\n",
    "from Logistic_bootstrap_metrics import bootstrap_metrics\n"
   ]
  },
  {
   "cell_type": "code",
   "execution_count": 15,
   "id": "d1046baf",
   "metadata": {},
   "outputs": [
    {
     "data": {
      "application/vnd.microsoft.datawrangler.viewer.v0+json": {
       "columns": [
        {
         "name": "index",
         "rawType": "int64",
         "type": "integer"
        },
        {
         "name": "MMSCORE",
         "rawType": "float64",
         "type": "float"
        },
        {
         "name": "AD",
         "rawType": "int64",
         "type": "integer"
        },
        {
         "name": "Split",
         "rawType": "object",
         "type": "string"
        }
       ],
       "conversionMethod": "pd.DataFrame",
       "ref": "81e64212-5077-4587-ad21-6eb446666605",
       "rows": [
        [
         "0",
         "30.0",
         "0",
         "Train"
        ],
        [
         "1",
         "30.0",
         "0",
         "Train"
        ],
        [
         "2",
         "29.0",
         "0",
         "Train"
        ],
        [
         "3",
         "30.0",
         "0",
         "Train"
        ],
        [
         "4",
         "28.0",
         "0",
         "Test"
        ]
       ],
       "shape": {
        "columns": 3,
        "rows": 5
       }
      },
      "text/html": [
       "<div>\n",
       "<style scoped>\n",
       "    .dataframe tbody tr th:only-of-type {\n",
       "        vertical-align: middle;\n",
       "    }\n",
       "\n",
       "    .dataframe tbody tr th {\n",
       "        vertical-align: top;\n",
       "    }\n",
       "\n",
       "    .dataframe thead th {\n",
       "        text-align: right;\n",
       "    }\n",
       "</style>\n",
       "<table border=\"1\" class=\"dataframe\">\n",
       "  <thead>\n",
       "    <tr style=\"text-align: right;\">\n",
       "      <th></th>\n",
       "      <th>MMSCORE</th>\n",
       "      <th>AD</th>\n",
       "      <th>Split</th>\n",
       "    </tr>\n",
       "  </thead>\n",
       "  <tbody>\n",
       "    <tr>\n",
       "      <th>0</th>\n",
       "      <td>30.0</td>\n",
       "      <td>0</td>\n",
       "      <td>Train</td>\n",
       "    </tr>\n",
       "    <tr>\n",
       "      <th>1</th>\n",
       "      <td>30.0</td>\n",
       "      <td>0</td>\n",
       "      <td>Train</td>\n",
       "    </tr>\n",
       "    <tr>\n",
       "      <th>2</th>\n",
       "      <td>29.0</td>\n",
       "      <td>0</td>\n",
       "      <td>Train</td>\n",
       "    </tr>\n",
       "    <tr>\n",
       "      <th>3</th>\n",
       "      <td>30.0</td>\n",
       "      <td>0</td>\n",
       "      <td>Train</td>\n",
       "    </tr>\n",
       "    <tr>\n",
       "      <th>4</th>\n",
       "      <td>28.0</td>\n",
       "      <td>0</td>\n",
       "      <td>Test</td>\n",
       "    </tr>\n",
       "  </tbody>\n",
       "</table>\n",
       "</div>"
      ],
      "text/plain": [
       "   MMSCORE  AD  Split\n",
       "0     30.0   0  Train\n",
       "1     30.0   0  Train\n",
       "2     29.0   0  Train\n",
       "3     30.0   0  Train\n",
       "4     28.0   0   Test"
      ]
     },
     "execution_count": 15,
     "metadata": {},
     "output_type": "execute_result"
    }
   ],
   "source": [
    "# Load your dataset\n",
    "df = pd.read_csv(\"data/TrainTest_Table.csv\")\n",
    "\n",
    "# Ensure MMSCORE and Group are available and not missing\n",
    "df = df.dropna(subset=['MMSCORE', 'AD'])\n",
    "\n",
    "# Show sample\n",
    "df[['MMSCORE', 'AD', 'Split']].head()\n"
   ]
  },
  {
   "cell_type": "code",
   "execution_count": 16,
   "id": "13fad7b0",
   "metadata": {},
   "outputs": [],
   "source": [
    "# Split into train and test based on 'Split' column\n",
    "df_train = df[df['Split'] == 'Train']\n",
    "df_test = df[df['Split'] == 'Test']\n",
    "\n",
    "# Define features and target\n",
    "X_train = df_train[['MMSCORE']]\n",
    "y_train = df_train['AD']\n",
    "X_test = df_test[['MMSCORE']]\n",
    "y_test = df_test['AD']\n"
   ]
  },
  {
   "cell_type": "code",
   "execution_count": 17,
   "id": "efab1e6c",
   "metadata": {},
   "outputs": [],
   "source": [
    "# Run logistic regression and bootstrap\n",
    "results = bootstrap_metrics(\n",
    "    df_train=X_train,\n",
    "    df_test=X_test,\n",
    "    independent_vars=['MMSCORE'],\n",
    "    dep_var_train=y_train,\n",
    "    dep_var_test=y_test,\n",
    "    n_bootstrap=1000,\n",
    "    threshold=0.5\n",
    ")\n"
   ]
  },
  {
   "cell_type": "code",
   "execution_count": 20,
   "id": "00599621",
   "metadata": {},
   "outputs": [
    {
     "name": "stdout",
     "output_type": "stream",
     "text": [
      "\n",
      "===== Odds Ratios (one-time fit) =====\n",
      "           Odds Ratio   95% CI Lower  95% CI Upper       p-value\n",
      "const    1.108315e+07  584766.636652  2.100603e+08  3.205904e-27\n",
      "MMSCORE  5.208992e-01       0.467053  5.809535e-01  1.066395e-31\n",
      "\n",
      "===== Bootstrapped Metrics (1000 runs) =====\n",
      "AUC: Mean = 0.7946, 95% CI = [0.7893, 0.8066]\n",
      "Balanced Accuracy: Mean = 0.6498, 95% CI = [0.6437, 0.6546]\n",
      "Sensitivity: Mean = 0.3209, 95% CI = [0.3091, 0.3273]\n",
      "Specificity: Mean = 0.9787, 95% CI = [0.9783, 0.9819]\n",
      "F1-score: Mean = 0.4493, 95% CI = [0.4359, 0.4615]\n"
     ]
    }
   ],
   "source": [
    "# Show odds ratios\n",
    "print(\"\\n===== Odds Ratios (one-time fit) =====\")\n",
    "print(results[\"Odds Ratios (one-time fit)\"])\n",
    "\n",
    "# Show bootstrapped metrics\n",
    "print(\"\\n===== Bootstrapped Metrics (1000 runs) =====\")\n",
    "for metric, (mean, ci) in results[\"Bootstrapped Metrics\"].items():\n",
    "    print(f\"{metric}: Mean = {mean:.4f}, 95% CI = [{ci[0]:.4f}, {ci[1]:.4f}]\")\n"
   ]
  },
  {
   "cell_type": "code",
   "execution_count": 19,
   "id": "46e0e02d",
   "metadata": {},
   "outputs": [
    {
     "ename": "LinAlgError",
     "evalue": "Singular matrix",
     "output_type": "error",
     "traceback": [
      "\u001b[0;31m---------------------------------------------------------------------------\u001b[0m",
      "\u001b[0;31mLinAlgError\u001b[0m                               Traceback (most recent call last)",
      "Cell \u001b[0;32mIn[19], line 41\u001b[0m\n\u001b[1;32m     38\u001b[0m     X_rank \u001b[38;5;241m=\u001b[39m np\u001b[38;5;241m.\u001b[39mlinalg\u001b[38;5;241m.\u001b[39mmatrix_rank(X_train_mmse)\n\u001b[1;32m     40\u001b[0m \u001b[38;5;66;03m# Run regression\u001b[39;00m\n\u001b[0;32m---> 41\u001b[0m results_mmse \u001b[38;5;241m=\u001b[39m \u001b[43mbootstrap_metrics\u001b[49m\u001b[43m(\u001b[49m\n\u001b[1;32m     42\u001b[0m \u001b[43m    \u001b[49m\u001b[43mdf_train\u001b[49m\u001b[38;5;241;43m=\u001b[39;49m\u001b[43mX_train_mmse\u001b[49m\u001b[43m,\u001b[49m\n\u001b[1;32m     43\u001b[0m \u001b[43m    \u001b[49m\u001b[43mdf_test\u001b[49m\u001b[38;5;241;43m=\u001b[39;49m\u001b[43mX_test_mmse\u001b[49m\u001b[43m,\u001b[49m\n\u001b[1;32m     44\u001b[0m \u001b[43m    \u001b[49m\u001b[43mindependent_vars\u001b[49m\u001b[38;5;241;43m=\u001b[39;49m\u001b[43mX_train_mmse\u001b[49m\u001b[38;5;241;43m.\u001b[39;49m\u001b[43mcolumns\u001b[49m\u001b[38;5;241;43m.\u001b[39;49m\u001b[43mtolist\u001b[49m\u001b[43m(\u001b[49m\u001b[43m)\u001b[49m\u001b[43m,\u001b[49m\n\u001b[1;32m     45\u001b[0m \u001b[43m    \u001b[49m\u001b[43mdep_var_train\u001b[49m\u001b[38;5;241;43m=\u001b[39;49m\u001b[43my_train_mmse\u001b[49m\u001b[43m,\u001b[49m\n\u001b[1;32m     46\u001b[0m \u001b[43m    \u001b[49m\u001b[43mdep_var_test\u001b[49m\u001b[38;5;241;43m=\u001b[39;49m\u001b[43my_test_mmse\u001b[49m\u001b[43m,\u001b[49m\n\u001b[1;32m     47\u001b[0m \u001b[43m    \u001b[49m\u001b[43mn_bootstrap\u001b[49m\u001b[38;5;241;43m=\u001b[39;49m\u001b[38;5;241;43m1000\u001b[39;49m\u001b[43m,\u001b[49m\n\u001b[1;32m     48\u001b[0m \u001b[43m    \u001b[49m\u001b[43mthreshold\u001b[49m\u001b[38;5;241;43m=\u001b[39;49m\u001b[38;5;241;43m0.5\u001b[39;49m\n\u001b[1;32m     49\u001b[0m \u001b[43m)\u001b[49m\n\u001b[1;32m     51\u001b[0m \u001b[38;5;66;03m# Show results\u001b[39;00m\n\u001b[1;32m     52\u001b[0m \u001b[38;5;28mprint\u001b[39m(\u001b[38;5;124m\"\u001b[39m\u001b[38;5;130;01m\\n\u001b[39;00m\u001b[38;5;124m===== MMSE Questions - Odds Ratios (one-time fit) =====\u001b[39m\u001b[38;5;124m\"\u001b[39m)\n",
      "File \u001b[0;32m~/Library/CloudStorage/OneDrive-UniversitetetiStavanger/Semester6/bacheloroppgave/Logistic_bootstrap_metrics.py:52\u001b[0m, in \u001b[0;36mbootstrap_metrics\u001b[0;34m(df_train, df_test, independent_vars, dep_var_train, dep_var_test, n_bootstrap, threshold)\u001b[0m\n\u001b[1;32m     49\u001b[0m \u001b[38;5;250m\u001b[39m\u001b[38;5;124;03m\"\"\"Performs bootstrap resampling and collects all metrics\"\"\"\u001b[39;00m\n\u001b[1;32m     51\u001b[0m \u001b[38;5;66;03m# Fit model once and get ORs\u001b[39;00m\n\u001b[0;32m---> 52\u001b[0m model, summary, OR_results \u001b[38;5;241m=\u001b[39m \u001b[43mfit_logistic_regression\u001b[49m\u001b[43m(\u001b[49m\u001b[43mdf_train\u001b[49m\u001b[43m,\u001b[49m\u001b[43m \u001b[49m\u001b[43mindependent_vars\u001b[49m\u001b[43m,\u001b[49m\u001b[43m \u001b[49m\u001b[43mdep_var_train\u001b[49m\u001b[43m)\u001b[49m\n\u001b[1;32m     54\u001b[0m boot_auc, boot_bal_acc, boot_sens, boot_spec, boot_f1 \u001b[38;5;241m=\u001b[39m [], [], [], [], []\n\u001b[1;32m     56\u001b[0m \u001b[38;5;66;03m# Stratified resampling (to ensure label distribution is maintained in each bootstrap sample)\u001b[39;00m\n",
      "File \u001b[0;32m~/Library/CloudStorage/OneDrive-UniversitetetiStavanger/Semester6/bacheloroppgave/Logistic_bootstrap_metrics.py:13\u001b[0m, in \u001b[0;36mfit_logistic_regression\u001b[0;34m(df, independent_vars, dep_var)\u001b[0m\n\u001b[1;32m     10\u001b[0m X \u001b[38;5;241m=\u001b[39m df[independent_vars]\n\u001b[1;32m     11\u001b[0m X \u001b[38;5;241m=\u001b[39m sm\u001b[38;5;241m.\u001b[39madd_constant(X)  \u001b[38;5;66;03m# Add intercept\u001b[39;00m\n\u001b[0;32m---> 13\u001b[0m model \u001b[38;5;241m=\u001b[39m \u001b[43msm\u001b[49m\u001b[38;5;241;43m.\u001b[39;49m\u001b[43mLogit\u001b[49m\u001b[43m(\u001b[49m\u001b[43mdep_var\u001b[49m\u001b[43m,\u001b[49m\u001b[43m \u001b[49m\u001b[43mX\u001b[49m\u001b[43m)\u001b[49m\u001b[38;5;241;43m.\u001b[39;49m\u001b[43mfit\u001b[49m\u001b[43m(\u001b[49m\u001b[43mdisp\u001b[49m\u001b[38;5;241;43m=\u001b[39;49m\u001b[38;5;241;43m0\u001b[39;49m\u001b[43m)\u001b[49m  \u001b[38;5;66;03m# Suppress output\u001b[39;00m\n\u001b[1;32m     15\u001b[0m summary \u001b[38;5;241m=\u001b[39m model\u001b[38;5;241m.\u001b[39msummary()  \u001b[38;5;66;03m# Full statsmodels summary\u001b[39;00m\n\u001b[1;32m     17\u001b[0m \u001b[38;5;66;03m# Extract ORs and their 95% CI\u001b[39;00m\n",
      "File \u001b[0;32m/Library/Frameworks/Python.framework/Versions/3.13/lib/python3.13/site-packages/statsmodels/discrete/discrete_model.py:2601\u001b[0m, in \u001b[0;36mLogit.fit\u001b[0;34m(self, start_params, method, maxiter, full_output, disp, callback, **kwargs)\u001b[0m\n\u001b[1;32m   2598\u001b[0m \u001b[38;5;129m@Appender\u001b[39m(DiscreteModel\u001b[38;5;241m.\u001b[39mfit\u001b[38;5;241m.\u001b[39m\u001b[38;5;18m__doc__\u001b[39m)\n\u001b[1;32m   2599\u001b[0m \u001b[38;5;28;01mdef\u001b[39;00m\u001b[38;5;250m \u001b[39m\u001b[38;5;21mfit\u001b[39m(\u001b[38;5;28mself\u001b[39m, start_params\u001b[38;5;241m=\u001b[39m\u001b[38;5;28;01mNone\u001b[39;00m, method\u001b[38;5;241m=\u001b[39m\u001b[38;5;124m'\u001b[39m\u001b[38;5;124mnewton\u001b[39m\u001b[38;5;124m'\u001b[39m, maxiter\u001b[38;5;241m=\u001b[39m\u001b[38;5;241m35\u001b[39m,\n\u001b[1;32m   2600\u001b[0m         full_output\u001b[38;5;241m=\u001b[39m\u001b[38;5;241m1\u001b[39m, disp\u001b[38;5;241m=\u001b[39m\u001b[38;5;241m1\u001b[39m, callback\u001b[38;5;241m=\u001b[39m\u001b[38;5;28;01mNone\u001b[39;00m, \u001b[38;5;241m*\u001b[39m\u001b[38;5;241m*\u001b[39mkwargs):\n\u001b[0;32m-> 2601\u001b[0m     bnryfit \u001b[38;5;241m=\u001b[39m \u001b[38;5;28;43msuper\u001b[39;49m\u001b[43m(\u001b[49m\u001b[43m)\u001b[49m\u001b[38;5;241;43m.\u001b[39;49m\u001b[43mfit\u001b[49m\u001b[43m(\u001b[49m\u001b[43mstart_params\u001b[49m\u001b[38;5;241;43m=\u001b[39;49m\u001b[43mstart_params\u001b[49m\u001b[43m,\u001b[49m\n\u001b[1;32m   2602\u001b[0m \u001b[43m                          \u001b[49m\u001b[43mmethod\u001b[49m\u001b[38;5;241;43m=\u001b[39;49m\u001b[43mmethod\u001b[49m\u001b[43m,\u001b[49m\n\u001b[1;32m   2603\u001b[0m \u001b[43m                          \u001b[49m\u001b[43mmaxiter\u001b[49m\u001b[38;5;241;43m=\u001b[39;49m\u001b[43mmaxiter\u001b[49m\u001b[43m,\u001b[49m\n\u001b[1;32m   2604\u001b[0m \u001b[43m                          \u001b[49m\u001b[43mfull_output\u001b[49m\u001b[38;5;241;43m=\u001b[39;49m\u001b[43mfull_output\u001b[49m\u001b[43m,\u001b[49m\n\u001b[1;32m   2605\u001b[0m \u001b[43m                          \u001b[49m\u001b[43mdisp\u001b[49m\u001b[38;5;241;43m=\u001b[39;49m\u001b[43mdisp\u001b[49m\u001b[43m,\u001b[49m\n\u001b[1;32m   2606\u001b[0m \u001b[43m                          \u001b[49m\u001b[43mcallback\u001b[49m\u001b[38;5;241;43m=\u001b[39;49m\u001b[43mcallback\u001b[49m\u001b[43m,\u001b[49m\n\u001b[1;32m   2607\u001b[0m \u001b[43m                          \u001b[49m\u001b[38;5;241;43m*\u001b[39;49m\u001b[38;5;241;43m*\u001b[39;49m\u001b[43mkwargs\u001b[49m\u001b[43m)\u001b[49m\n\u001b[1;32m   2609\u001b[0m     discretefit \u001b[38;5;241m=\u001b[39m LogitResults(\u001b[38;5;28mself\u001b[39m, bnryfit)\n\u001b[1;32m   2610\u001b[0m     \u001b[38;5;28;01mreturn\u001b[39;00m BinaryResultsWrapper(discretefit)\n",
      "File \u001b[0;32m/Library/Frameworks/Python.framework/Versions/3.13/lib/python3.13/site-packages/statsmodels/discrete/discrete_model.py:243\u001b[0m, in \u001b[0;36mDiscreteModel.fit\u001b[0;34m(self, start_params, method, maxiter, full_output, disp, callback, **kwargs)\u001b[0m\n\u001b[1;32m    240\u001b[0m \u001b[38;5;28;01melse\u001b[39;00m:\n\u001b[1;32m    241\u001b[0m     \u001b[38;5;28;01mpass\u001b[39;00m  \u001b[38;5;66;03m# TODO: make a function factory to have multiple call-backs\u001b[39;00m\n\u001b[0;32m--> 243\u001b[0m mlefit \u001b[38;5;241m=\u001b[39m \u001b[38;5;28;43msuper\u001b[39;49m\u001b[43m(\u001b[49m\u001b[43m)\u001b[49m\u001b[38;5;241;43m.\u001b[39;49m\u001b[43mfit\u001b[49m\u001b[43m(\u001b[49m\u001b[43mstart_params\u001b[49m\u001b[38;5;241;43m=\u001b[39;49m\u001b[43mstart_params\u001b[49m\u001b[43m,\u001b[49m\n\u001b[1;32m    244\u001b[0m \u001b[43m                     \u001b[49m\u001b[43mmethod\u001b[49m\u001b[38;5;241;43m=\u001b[39;49m\u001b[43mmethod\u001b[49m\u001b[43m,\u001b[49m\n\u001b[1;32m    245\u001b[0m \u001b[43m                     \u001b[49m\u001b[43mmaxiter\u001b[49m\u001b[38;5;241;43m=\u001b[39;49m\u001b[43mmaxiter\u001b[49m\u001b[43m,\u001b[49m\n\u001b[1;32m    246\u001b[0m \u001b[43m                     \u001b[49m\u001b[43mfull_output\u001b[49m\u001b[38;5;241;43m=\u001b[39;49m\u001b[43mfull_output\u001b[49m\u001b[43m,\u001b[49m\n\u001b[1;32m    247\u001b[0m \u001b[43m                     \u001b[49m\u001b[43mdisp\u001b[49m\u001b[38;5;241;43m=\u001b[39;49m\u001b[43mdisp\u001b[49m\u001b[43m,\u001b[49m\n\u001b[1;32m    248\u001b[0m \u001b[43m                     \u001b[49m\u001b[43mcallback\u001b[49m\u001b[38;5;241;43m=\u001b[39;49m\u001b[43mcallback\u001b[49m\u001b[43m,\u001b[49m\n\u001b[1;32m    249\u001b[0m \u001b[43m                     \u001b[49m\u001b[38;5;241;43m*\u001b[39;49m\u001b[38;5;241;43m*\u001b[39;49m\u001b[43mkwargs\u001b[49m\u001b[43m)\u001b[49m\n\u001b[1;32m    251\u001b[0m \u001b[38;5;28;01mreturn\u001b[39;00m mlefit\n",
      "File \u001b[0;32m/Library/Frameworks/Python.framework/Versions/3.13/lib/python3.13/site-packages/statsmodels/base/model.py:582\u001b[0m, in \u001b[0;36mLikelihoodModel.fit\u001b[0;34m(self, start_params, method, maxiter, full_output, disp, fargs, callback, retall, skip_hessian, **kwargs)\u001b[0m\n\u001b[1;32m    580\u001b[0m     Hinv \u001b[38;5;241m=\u001b[39m cov_params_func(\u001b[38;5;28mself\u001b[39m, xopt, retvals)\n\u001b[1;32m    581\u001b[0m \u001b[38;5;28;01melif\u001b[39;00m method \u001b[38;5;241m==\u001b[39m \u001b[38;5;124m'\u001b[39m\u001b[38;5;124mnewton\u001b[39m\u001b[38;5;124m'\u001b[39m \u001b[38;5;129;01mand\u001b[39;00m full_output:\n\u001b[0;32m--> 582\u001b[0m     Hinv \u001b[38;5;241m=\u001b[39m \u001b[43mnp\u001b[49m\u001b[38;5;241;43m.\u001b[39;49m\u001b[43mlinalg\u001b[49m\u001b[38;5;241;43m.\u001b[39;49m\u001b[43minv\u001b[49m\u001b[43m(\u001b[49m\u001b[38;5;241;43m-\u001b[39;49m\u001b[43mretvals\u001b[49m\u001b[43m[\u001b[49m\u001b[38;5;124;43m'\u001b[39;49m\u001b[38;5;124;43mHessian\u001b[39;49m\u001b[38;5;124;43m'\u001b[39;49m\u001b[43m]\u001b[49m\u001b[43m)\u001b[49m \u001b[38;5;241m/\u001b[39m nobs\n\u001b[1;32m    583\u001b[0m \u001b[38;5;28;01melif\u001b[39;00m \u001b[38;5;129;01mnot\u001b[39;00m skip_hessian:\n\u001b[1;32m    584\u001b[0m     H \u001b[38;5;241m=\u001b[39m \u001b[38;5;241m-\u001b[39m\u001b[38;5;241m1\u001b[39m \u001b[38;5;241m*\u001b[39m \u001b[38;5;28mself\u001b[39m\u001b[38;5;241m.\u001b[39mhessian(xopt)\n",
      "File \u001b[0;32m/Library/Frameworks/Python.framework/Versions/3.13/lib/python3.13/site-packages/numpy/linalg/_linalg.py:609\u001b[0m, in \u001b[0;36minv\u001b[0;34m(a)\u001b[0m\n\u001b[1;32m    606\u001b[0m signature \u001b[38;5;241m=\u001b[39m \u001b[38;5;124m'\u001b[39m\u001b[38;5;124mD->D\u001b[39m\u001b[38;5;124m'\u001b[39m \u001b[38;5;28;01mif\u001b[39;00m isComplexType(t) \u001b[38;5;28;01melse\u001b[39;00m \u001b[38;5;124m'\u001b[39m\u001b[38;5;124md->d\u001b[39m\u001b[38;5;124m'\u001b[39m\n\u001b[1;32m    607\u001b[0m \u001b[38;5;28;01mwith\u001b[39;00m errstate(call\u001b[38;5;241m=\u001b[39m_raise_linalgerror_singular, invalid\u001b[38;5;241m=\u001b[39m\u001b[38;5;124m'\u001b[39m\u001b[38;5;124mcall\u001b[39m\u001b[38;5;124m'\u001b[39m,\n\u001b[1;32m    608\u001b[0m               over\u001b[38;5;241m=\u001b[39m\u001b[38;5;124m'\u001b[39m\u001b[38;5;124mignore\u001b[39m\u001b[38;5;124m'\u001b[39m, divide\u001b[38;5;241m=\u001b[39m\u001b[38;5;124m'\u001b[39m\u001b[38;5;124mignore\u001b[39m\u001b[38;5;124m'\u001b[39m, under\u001b[38;5;241m=\u001b[39m\u001b[38;5;124m'\u001b[39m\u001b[38;5;124mignore\u001b[39m\u001b[38;5;124m'\u001b[39m):\n\u001b[0;32m--> 609\u001b[0m     ainv \u001b[38;5;241m=\u001b[39m \u001b[43m_umath_linalg\u001b[49m\u001b[38;5;241;43m.\u001b[39;49m\u001b[43minv\u001b[49m\u001b[43m(\u001b[49m\u001b[43ma\u001b[49m\u001b[43m,\u001b[49m\u001b[43m \u001b[49m\u001b[43msignature\u001b[49m\u001b[38;5;241;43m=\u001b[39;49m\u001b[43msignature\u001b[49m\u001b[43m)\u001b[49m\n\u001b[1;32m    610\u001b[0m \u001b[38;5;28;01mreturn\u001b[39;00m wrap(ainv\u001b[38;5;241m.\u001b[39mastype(result_t, copy\u001b[38;5;241m=\u001b[39m\u001b[38;5;28;01mFalse\u001b[39;00m))\n",
      "File \u001b[0;32m/Library/Frameworks/Python.framework/Versions/3.13/lib/python3.13/site-packages/numpy/linalg/_linalg.py:104\u001b[0m, in \u001b[0;36m_raise_linalgerror_singular\u001b[0;34m(err, flag)\u001b[0m\n\u001b[1;32m    103\u001b[0m \u001b[38;5;28;01mdef\u001b[39;00m\u001b[38;5;250m \u001b[39m\u001b[38;5;21m_raise_linalgerror_singular\u001b[39m(err, flag):\n\u001b[0;32m--> 104\u001b[0m     \u001b[38;5;28;01mraise\u001b[39;00m LinAlgError(\u001b[38;5;124m\"\u001b[39m\u001b[38;5;124mSingular matrix\u001b[39m\u001b[38;5;124m\"\u001b[39m)\n",
      "\u001b[0;31mLinAlgError\u001b[0m: Singular matrix"
     ]
    }
   ],
   "source": [
    "# Define MMSE columns\n",
    "mmse_columns = [\n",
    "    \"MMYEAR\", \"MMMONTH\", \"MMDAY\", \"MMSEASON\", \"MMDATE\",\n",
    "    \"MMSTATE\", \"MMCITY\", \"MMAREA\", \"MMHOSPIT\", \"MMFLOOR\",\n",
    "    \"WORD1\", \"WORD2\", \"WORD3\",\n",
    "    \"MMD\", \"MML\", \"MMR\", \"MMO\", \"MMW\",\n",
    "    \"WORD1DL\", \"WORD2DL\", \"WORD3DL\",\n",
    "    \"MMWATCH\", \"MMPENCIL\", \"MMREPEAT\",\n",
    "    \"MMHAND\", \"MMFOLD\", \"MMONFLR\",\n",
    "    \"MMREAD\", \"MMWRITE\", \"MMDRAW\"\n",
    "]\n",
    "\n",
    "# Drop rows with any missing MMSE or AD values\n",
    "df_mmse = df.dropna(subset=mmse_columns + ['AD'])\n",
    "\n",
    "# Split into train and test\n",
    "df_train_mmse = df_mmse[df_mmse['Split'] == 'Train']\n",
    "df_test_mmse = df_mmse[df_mmse['Split'] == 'Test']\n",
    "\n",
    "# Define X and y\n",
    "X_train_mmse = df_train_mmse[mmse_columns]\n",
    "y_train_mmse = df_train_mmse['AD']\n",
    "X_test_mmse = df_test_mmse[mmse_columns]\n",
    "y_test_mmse = df_test_mmse['AD']\n",
    "\n",
    "# Step 1: Drop constant columns\n",
    "X_train_mmse = X_train_mmse.loc[:, X_train_mmse.nunique() > 1]\n",
    "X_test_mmse = X_test_mmse[X_train_mmse.columns]\n",
    "\n",
    "# Step 2: Drop collinear columns based on matrix rank\n",
    "X_rank = np.linalg.matrix_rank(X_train_mmse)\n",
    "while X_rank < X_train_mmse.shape[1]:\n",
    "    corr_matrix = X_train_mmse.corr().abs()\n",
    "    upper = corr_matrix.where(np.triu(np.ones(corr_matrix.shape), k=1).astype(bool))\n",
    "    to_drop = upper.stack().idxmax()  # Most collinear pair\n",
    "    X_train_mmse = X_train_mmse.drop(columns=[to_drop[1]])\n",
    "    X_test_mmse = X_test_mmse.drop(columns=[to_drop[1]])\n",
    "    X_rank = np.linalg.matrix_rank(X_train_mmse)\n",
    "\n",
    "# Run regression\n",
    "results_mmse = bootstrap_metrics(\n",
    "    df_train=X_train_mmse,\n",
    "    df_test=X_test_mmse,\n",
    "    independent_vars=X_train_mmse.columns.tolist(),\n",
    "    dep_var_train=y_train_mmse,\n",
    "    dep_var_test=y_test_mmse,\n",
    "    n_bootstrap=1000,\n",
    "    threshold=0.5\n",
    ")\n",
    "\n",
    "# Show results\n",
    "print(\"\\n===== MMSE Questions - Odds Ratios (one-time fit) =====\")\n",
    "print(results_mmse[\"Odds Ratios (one-time fit)\"])\n",
    "\n",
    "print(\"\\n===== MMSE Questions - Bootstrapped Metrics (1000 runs) =====\")\n",
    "for metric, (mean, ci) in results_mmse[\"Bootstrapped Metrics\"].items():\n",
    "    print(f\"{metric}: Mean = {mean:.4f}, 95% CI = [{ci[0]:.4f}, {ci[1]:.4f}]\")\n"
   ]
  }
 ],
 "metadata": {
  "kernelspec": {
   "display_name": "Python 3",
   "language": "python",
   "name": "python3"
  },
  "language_info": {
   "codemirror_mode": {
    "name": "ipython",
    "version": 3
   },
   "file_extension": ".py",
   "mimetype": "text/x-python",
   "name": "python",
   "nbconvert_exporter": "python",
   "pygments_lexer": "ipython3",
   "version": "3.13.1"
  }
 },
 "nbformat": 4,
 "nbformat_minor": 5
}
